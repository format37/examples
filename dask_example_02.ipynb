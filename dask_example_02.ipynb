{
 "cells": [
  {
   "cell_type": "code",
   "execution_count": 1,
   "id": "1cec9faf",
   "metadata": {},
   "outputs": [],
   "source": [
    "#conda install -c conda-forge pyarrow -y\n",
    "#conda install -c conda-forge fastparquet -y"
   ]
  },
  {
   "cell_type": "code",
   "execution_count": 2,
   "id": "448130ce",
   "metadata": {},
   "outputs": [],
   "source": [
    "import pandas as pd\n",
    "import numpy as np"
   ]
  },
  {
   "cell_type": "code",
   "execution_count": 3,
   "id": "37b5b6c2",
   "metadata": {},
   "outputs": [
    {
     "name": "stdout",
     "output_type": "stream",
     "text": [
      "Python Version :  3.9.7 (default, Sep 16 2021, 13:09:58) \n",
      "[GCC 7.5.0]\n",
      "Dask Version :  2021.12.0\n"
     ]
    }
   ],
   "source": [
    "import dask\n",
    "from dask.distributed import Client\n",
    "from dask import dataframe as dd\n",
    "import sys\n",
    "\n",
    "print(\"Python Version : \", sys.version)\n",
    "print(\"Dask Version : \", dask.__version__)\n",
    "\n",
    "client = Client(n_workers=2, threads_per_worker=4)\n",
    "#client"
   ]
  },
  {
   "cell_type": "markdown",
   "id": "b808eee6",
   "metadata": {},
   "source": [
    "### Generate data"
   ]
  },
  {
   "cell_type": "code",
   "execution_count": 4,
   "id": "81b3947b",
   "metadata": {},
   "outputs": [],
   "source": [
    "data_len = 500\n",
    "id_list = [i for i in range(data_len)]\n",
    "df1 = pd.DataFrame({'id': id_list,\n",
    "                    'value': np.random.randint(0,100,data_len)})\n",
    "df2 = pd.DataFrame({'id': id_list,\n",
    "                    'value': np.random.randint(0,100,data_len)})"
   ]
  },
  {
   "cell_type": "code",
   "execution_count": 5,
   "id": "b0149f42",
   "metadata": {},
   "outputs": [],
   "source": [
    "dd1 = dask.dataframe.from_pandas(df1, npartitions=1)\n",
    "dd2 = dask.dataframe.from_pandas(df2, npartitions=1)"
   ]
  },
  {
   "cell_type": "code",
   "execution_count": 6,
   "id": "3f4e5aa0",
   "metadata": {},
   "outputs": [
    {
     "data": {
      "text/plain": [
       "[None]"
      ]
     },
     "execution_count": 6,
     "metadata": {},
     "output_type": "execute_result"
    }
   ],
   "source": [
    "dd1.to_parquet('dd1/')\n",
    "dd2.to_parquet('dd2/')"
   ]
  },
  {
   "cell_type": "markdown",
   "id": "471e2ebf",
   "metadata": {},
   "source": [
    "### Read data from parquet files"
   ]
  },
  {
   "cell_type": "code",
   "execution_count": 7,
   "id": "ec267222",
   "metadata": {},
   "outputs": [],
   "source": [
    "dfa = dd.read_parquet('dd1/')\n",
    "dfb = dd.read_parquet('dd2/')"
   ]
  },
  {
   "cell_type": "markdown",
   "id": "6d09ca09",
   "metadata": {},
   "source": [
    "### Merge"
   ]
  },
  {
   "cell_type": "code",
   "execution_count": 8,
   "id": "4feb285e",
   "metadata": {},
   "outputs": [
    {
     "name": "stdout",
     "output_type": "stream",
     "text": [
      "CPU times: user 26.8 ms, sys: 473 µs, total: 27.3 ms\n",
      "Wall time: 194 ms\n"
     ]
    },
    {
     "data": {
      "text/html": [
       "<div>\n",
       "<style scoped>\n",
       "    .dataframe tbody tr th:only-of-type {\n",
       "        vertical-align: middle;\n",
       "    }\n",
       "\n",
       "    .dataframe tbody tr th {\n",
       "        vertical-align: top;\n",
       "    }\n",
       "\n",
       "    .dataframe thead th {\n",
       "        text-align: right;\n",
       "    }\n",
       "</style>\n",
       "<table border=\"1\" class=\"dataframe\">\n",
       "  <thead>\n",
       "    <tr style=\"text-align: right;\">\n",
       "      <th></th>\n",
       "      <th>id</th>\n",
       "      <th>value_x</th>\n",
       "      <th>value_y</th>\n",
       "    </tr>\n",
       "  </thead>\n",
       "  <tbody>\n",
       "    <tr>\n",
       "      <th>0</th>\n",
       "      <td>0</td>\n",
       "      <td>5</td>\n",
       "      <td>59</td>\n",
       "    </tr>\n",
       "    <tr>\n",
       "      <th>1</th>\n",
       "      <td>1</td>\n",
       "      <td>31</td>\n",
       "      <td>81</td>\n",
       "    </tr>\n",
       "    <tr>\n",
       "      <th>2</th>\n",
       "      <td>2</td>\n",
       "      <td>28</td>\n",
       "      <td>16</td>\n",
       "    </tr>\n",
       "    <tr>\n",
       "      <th>3</th>\n",
       "      <td>3</td>\n",
       "      <td>41</td>\n",
       "      <td>73</td>\n",
       "    </tr>\n",
       "    <tr>\n",
       "      <th>4</th>\n",
       "      <td>4</td>\n",
       "      <td>6</td>\n",
       "      <td>62</td>\n",
       "    </tr>\n",
       "    <tr>\n",
       "      <th>...</th>\n",
       "      <td>...</td>\n",
       "      <td>...</td>\n",
       "      <td>...</td>\n",
       "    </tr>\n",
       "    <tr>\n",
       "      <th>495</th>\n",
       "      <td>495</td>\n",
       "      <td>33</td>\n",
       "      <td>55</td>\n",
       "    </tr>\n",
       "    <tr>\n",
       "      <th>496</th>\n",
       "      <td>496</td>\n",
       "      <td>32</td>\n",
       "      <td>5</td>\n",
       "    </tr>\n",
       "    <tr>\n",
       "      <th>497</th>\n",
       "      <td>497</td>\n",
       "      <td>71</td>\n",
       "      <td>43</td>\n",
       "    </tr>\n",
       "    <tr>\n",
       "      <th>498</th>\n",
       "      <td>498</td>\n",
       "      <td>84</td>\n",
       "      <td>47</td>\n",
       "    </tr>\n",
       "    <tr>\n",
       "      <th>499</th>\n",
       "      <td>499</td>\n",
       "      <td>51</td>\n",
       "      <td>5</td>\n",
       "    </tr>\n",
       "  </tbody>\n",
       "</table>\n",
       "<p>500 rows × 3 columns</p>\n",
       "</div>"
      ],
      "text/plain": [
       "      id  value_x  value_y\n",
       "0      0        5       59\n",
       "1      1       31       81\n",
       "2      2       28       16\n",
       "3      3       41       73\n",
       "4      4        6       62\n",
       "..   ...      ...      ...\n",
       "495  495       33       55\n",
       "496  496       32        5\n",
       "497  497       71       43\n",
       "498  498       84       47\n",
       "499  499       51        5\n",
       "\n",
       "[500 rows x 3 columns]"
      ]
     },
     "execution_count": 8,
     "metadata": {},
     "output_type": "execute_result"
    }
   ],
   "source": [
    "%time dfa.merge(dfb, on ='id', how='left').compute()"
   ]
  }
 ],
 "metadata": {
  "kernelspec": {
   "display_name": "Python (ml02)",
   "language": "python",
   "name": "ml02"
  },
  "language_info": {
   "codemirror_mode": {
    "name": "ipython",
    "version": 3
   },
   "file_extension": ".py",
   "mimetype": "text/x-python",
   "name": "python",
   "nbconvert_exporter": "python",
   "pygments_lexer": "ipython3",
   "version": "3.9.7"
  }
 },
 "nbformat": 4,
 "nbformat_minor": 5
}
