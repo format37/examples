{
 "cells": [
  {
   "cell_type": "code",
   "execution_count": 1,
   "id": "75474717",
   "metadata": {},
   "outputs": [
    {
     "name": "stdout",
     "output_type": "stream",
     "text": [
      "11.066330909729004\n"
     ]
    },
    {
     "data": {
      "text/plain": [
       "0        1000,1001,1999,1002,1003,1998,1004,1005,1997,1...\n",
       "1        1000,1001,1999,1002,1003,1998,1004,1005,1997,1...\n",
       "2        1000,1001,1999,1002,1003,1998,1004,1005,1997,1...\n",
       "3        1000,1001,1999,1002,1003,1998,1004,1005,1997,1...\n",
       "4        1000,1001,1999,1002,1003,1998,1004,1005,1997,1...\n",
       "                               ...                        \n",
       "19995    1000,1001,1999,1002,1003,1998,1004,1005,1997,1...\n",
       "19996    1000,1001,1999,1002,1003,1998,1004,1005,1997,1...\n",
       "19997    1000,1001,1999,1002,1003,1998,1004,1005,1997,1...\n",
       "19998    1000,1001,1999,1002,1003,1998,1004,1005,1997,1...\n",
       "19999    1000,1001,1999,1002,1003,1998,1004,1005,1997,1...\n",
       "Name: merge, Length: 20000, dtype: object"
      ]
     },
     "execution_count": 1,
     "metadata": {},
     "output_type": "execute_result"
    }
   ],
   "source": [
    "#### Data\n",
    "import pandas as pd, numpy as np, time\n",
    " \n",
    "df = []\n",
    "for i in range(0, 20000):\n",
    "    vv = (i,  \",\".join( [str(t) for t in  np.arange(1000, 2000, 1)  ] ) )\n",
    "    df.append(vv)\n",
    "df1 =pd.DataFrame(df, columns = ['id', 'list1'])\n",
    "\n",
    "df = []\n",
    "for i in range(0, 20000):\n",
    "    vv = (i,   \",\".join( [str(t) for t in  np.arange(2000, 1500, -1)  ]) )\n",
    "    df.append(vv)\n",
    "df2 =pd.DataFrame(df, columns = ['id', 'list2'])  \n",
    "\n",
    "#### algo\n",
    "def test_0(df1, df2):\n",
    "    def rank_adjust2(ll1, ll2,):\n",
    "        \"\"\" Re-rank elements of list1 using ranking of list2\"\"\"\n",
    "        if isinstance(ll1, str): ll1 = ll1.split(\",\")\n",
    "        if isinstance(ll2, str): ll2 = ll2.split(\",\")\n",
    "        n1, n2 = len(ll1), len(ll2)\n",
    "        if n2 < 1: return ll1\n",
    " \n",
    "        ll2 = {x:i for i,x in enumerate( ll2 )  }\n",
    " \n",
    "        # log(ll1) ; log(ll2)\n",
    " \n",
    "        adjust, mrank = (1.0 * n1) / n2, n2\n",
    "        rank3 = np.zeros(n1, dtype='float32')\n",
    "        kk    = 2\n",
    "        for rank1, sid in enumerate(ll1):\n",
    "            rank2        = ll2.get(sid, mrank)\n",
    "            rank3[rank1] = - rank_score2(rank1, rank2, adjust=adjust, kk= kk)\n",
    " \n",
    "        # Id of ll1 sorted list\n",
    "        v = [ll1[i] for i in np.argsort(rank3)]\n",
    "        return \",\".join( v)\n",
    " \n",
    " \n",
    "    def rank_score2(rank1, rank2, adjust=1.0, kk=1.0):\n",
    "        return 1.0 / (kk + rank1) + 1.0 / (kk + rank2 * adjust)\n",
    " \n",
    "    dfx1 = df1.merge(df2, on = 'id', how='left')\n",
    "    dfx1['merge'] = dfx1.apply(lambda x : rank_adjust2(x['list1'], x['list2'],), axis=1 )\n",
    "    return dfx1[['id', 'merge']]\n",
    "\n",
    "t0 = time.time()\n",
    "result_0 = test_0(df1, df2)\n",
    "print(time.time() -t0)\n",
    "result_0['merge']"
   ]
  },
  {
   "cell_type": "code",
   "execution_count": 2,
   "id": "d613ea53",
   "metadata": {},
   "outputs": [
    {
     "name": "stdout",
     "output_type": "stream",
     "text": [
      "11.889621257781982\n"
     ]
    },
    {
     "data": {
      "text/plain": [
       "0       1000,1001,1999,1002,1003,1998,1004,1005,1997,1...\n",
       "1       1000,1001,1999,1002,1003,1998,1004,1005,1997,1...\n",
       "2       1000,1001,1999,1002,1003,1998,1004,1005,1997,1...\n",
       "3       1000,1001,1999,1002,1003,1998,1004,1005,1997,1...\n",
       "4       1000,1001,1999,1002,1003,1998,1004,1005,1997,1...\n",
       "                              ...                        \n",
       "9885    1000,1001,1999,1002,1003,1998,1004,1005,1997,1...\n",
       "9886    1000,1001,1999,1002,1003,1998,1004,1005,1997,1...\n",
       "9887    1000,1001,1999,1002,1003,1998,1004,1005,1997,1...\n",
       "9888    1000,1001,1999,1002,1003,1998,1004,1005,1997,1...\n",
       "9889    1000,1001,1999,1002,1003,1998,1004,1005,1997,1...\n",
       "Name: merge, Length: 20000, dtype: object"
      ]
     },
     "execution_count": 2,
     "metadata": {},
     "output_type": "execute_result"
    }
   ],
   "source": [
    "### dask\n",
    "from dask import dataframe as dd\n",
    "\n",
    "dd1 = dd.from_pandas(df1, npartitions=2)\n",
    "dd2 = dd.from_pandas(df2, npartitions=2)\n",
    "#dd1 = dd1.set_index('id', sorted=True)\n",
    "#dd2 = dd2.set_index('id', sorted=True)\n",
    "\n",
    "#### algo\n",
    "def test_1(dd1, dd2):\n",
    "    def rank_adjust2(ll1, ll2):\n",
    "        \"\"\" Re-rank elements of list1 using ranking of list2\"\"\"\n",
    "        if isinstance(ll1, str): ll1 = ll1.split(\",\")\n",
    "        if isinstance(ll2, str): ll2 = ll2.split(\",\")\n",
    "        n1, n2 = len(ll1), len(ll2)\n",
    "        if n2 < 1: return ll1\n",
    "\n",
    "        ll2 = {x:i for i,x in enumerate( ll2 )  }\n",
    "\n",
    "        # log(ll1) ; log(ll2)\n",
    "\n",
    "        adjust, mrank = (1.0 * n1) / n2, n2\n",
    "        rank3 = np.zeros(n1, dtype='float32')\n",
    "        kk    = 2\n",
    "        for rank1, sid in enumerate(ll1):\n",
    "            rank2        = ll2.get(sid, mrank)\n",
    "            rank3[rank1] = - rank_score2(rank1, rank2, adjust=adjust, kk= kk)\n",
    "\n",
    "        # Id of ll1 sorted list\n",
    "        v = [ll1[i] for i in np.argsort(rank3)]\n",
    "        return \",\".join( v)\n",
    "\n",
    "\n",
    "    def rank_score2(rank1, rank2, adjust=1.0, kk=1.0):\n",
    "        return 1.0 / (kk + rank1) + 1.0 / (kk + rank2 * adjust)\n",
    "\n",
    "    dd3 = dd1.merge(dd2, on ='id', how='left')\n",
    "    meta_df = ('list1', 'str')\n",
    "    dd3['merge'] = dd3.apply(lambda x : rank_adjust2(x['list1'], x['list2'],), axis=1 , meta=meta_df)\n",
    "    return dd3\n",
    "\n",
    "task = test_1(dd1, dd2)\n",
    "t0 = time.time()\n",
    "result_1 = task.compute()\n",
    "print(time.time() -t0)\n",
    "result_1['merge']"
   ]
  },
  {
   "cell_type": "code",
   "execution_count": 3,
   "id": "b50c5c83",
   "metadata": {},
   "outputs": [],
   "source": [
    "def is_same(dfa, dfb):\n",
    "    if dfa.shape != dfb.shape:\n",
    "        return False\n",
    "    for i in range(dfa.shape[0]):\n",
    "        if dfa.iloc[i] != dfb.iloc[i]:\n",
    "            print(i,dfa.iloc[i],dfb.iloc[i])\n",
    "            return False\n",
    "    return True"
   ]
  },
  {
   "cell_type": "code",
   "execution_count": 4,
   "id": "b0eb74fe",
   "metadata": {},
   "outputs": [
    {
     "data": {
      "text/plain": [
       "True"
      ]
     },
     "execution_count": 4,
     "metadata": {},
     "output_type": "execute_result"
    }
   ],
   "source": [
    "is_same(result_0['merge'], result_1['merge'])"
   ]
  }
 ],
 "metadata": {
  "kernelspec": {
   "display_name": "Python (ml02)",
   "language": "python",
   "name": "ml02"
  },
  "language_info": {
   "codemirror_mode": {
    "name": "ipython",
    "version": 3
   },
   "file_extension": ".py",
   "mimetype": "text/x-python",
   "name": "python",
   "nbconvert_exporter": "python",
   "pygments_lexer": "ipython3",
   "version": "3.9.7"
  }
 },
 "nbformat": 4,
 "nbformat_minor": 5
}
